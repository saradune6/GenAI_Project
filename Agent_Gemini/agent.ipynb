{
 "cells": [
  {
   "cell_type": "code",
   "execution_count": 2,
   "id": "f684a4d0-1cd9-459e-9762-0c597f8f0165",
   "metadata": {},
   "outputs": [],
   "source": [
    "from langchain.agents import initialize_agent, Tool\n",
    "# from langchain.llms import OpenAI\n",
    "from langchain_google_genai import GoogleGenerativeAI\n",
    "\n",
    "from langchain_community.utilities import SerpAPIWrapper\n",
    "\n",
    "\n",
    "from dotenv import load_dotenv\n",
    "import os\n",
    "\n",
    "load_dotenv()\n",
    "openai_api_key = os.getenv(\"GOOGLE_API_KEY\")\n",
    "serpapi_api_key = os.getenv(\"SERPAPI_API_KEY\")"
   ]
  },
  {
   "cell_type": "code",
   "execution_count": 3,
   "id": "25eefd32-6140-42c4-99c9-9f6eb47a7d3d",
   "metadata": {},
   "outputs": [],
   "source": [
    "# https://serpapi.com/manage-api-key\n",
    "#\"Serp API key\" is used to authenticate your application or project when accessing the SerpApi service,"
   ]
  },
  {
   "cell_type": "code",
   "execution_count": 4,
   "id": "f0781f96-f573-447f-977c-d693380fd20d",
   "metadata": {},
   "outputs": [
    {
     "name": "stderr",
     "output_type": "stream",
     "text": [
      "/var/folders/fd/dk1cn0wn0j3b7_0hf6vgbgp40000gn/T/ipykernel_56373/920617168.py:14: LangChainDeprecationWarning: LangChain agents will continue to be supported, but it is recommended for new use cases to be built with LangGraph. LangGraph offers a more flexible and full-featured framework for building agents, including support for tool-calling, persistence of state, and human-in-the-loop workflows. For details, refer to the `LangGraph documentation <https://langchain-ai.github.io/langgraph/>`_ as well as guides for `Migrating from AgentExecutor <https://python.langchain.com/docs/how_to/migrate_agent/>`_ and LangGraph's `Pre-built ReAct agent <https://langchain-ai.github.io/langgraph/how-tos/create-react-agent/>`_.\n",
      "  agent = initialize_agent(tools, llm, agent=\"zero-shot-react-description\", verbose=True)\n",
      "/var/folders/fd/dk1cn0wn0j3b7_0hf6vgbgp40000gn/T/ipykernel_56373/920617168.py:16: LangChainDeprecationWarning: The method `Chain.run` was deprecated in langchain 0.1.0 and will be removed in 1.0. Use :meth:`~invoke` instead.\n",
      "  response = agent.run(\"What’s the weather in Delhi?\")\n"
     ]
    },
    {
     "name": "stdout",
     "output_type": "stream",
     "text": [
      "\n",
      "\n",
      "\u001b[1m> Entering new AgentExecutor chain...\u001b[0m\n",
      "\u001b[32;1m\u001b[1;3mAction: Search\n",
      "Action Input: What's the weather in Delhi?\u001b[0m\n",
      "Observation: \u001b[36;1m\u001b[1;3m{'type': 'weather_result', 'temperature': '65', 'unit': 'Fahrenheit', 'precipitation': '0%', 'humidity': '41%', 'wind': '8 mph', 'location': 'Delhi, India', 'date': 'Thursday 7:00 PM', 'weather': 'Haze'}\u001b[0m\n",
      "Thought:"
     ]
    },
    {
     "name": "stderr",
     "output_type": "stream",
     "text": [
      "Retrying langchain_google_genai.llms._completion_with_retry.<locals>._completion_with_retry in 4.0 seconds as it raised ResourceExhausted: 429 Resource has been exhausted (e.g. check quota)..\n"
     ]
    },
    {
     "name": "stdout",
     "output_type": "stream",
     "text": [
      "\u001b[32;1m\u001b[1;3mFinal Answer: It is 65 degrees Fahrenheit in Delhi, India with 0% precipitation, 41% humidity, and 8 mph wind. The weather is described as Haze.\u001b[0m\n",
      "\n",
      "\u001b[1m> Finished chain.\u001b[0m\n",
      "It is 65 degrees Fahrenheit in Delhi, India with 0% precipitation, 41% humidity, and 8 mph wind. The weather is described as Haze.\n"
     ]
    }
   ],
   "source": [
    "search_tool = SerpAPIWrapper()\n",
    "\n",
    "llm = GoogleGenerativeAI(model=\"gemini-pro\", temperature=0.5)\n",
    "\n",
    "tools = [\n",
    "    Tool(\n",
    "        name=\"Search\",\n",
    "        func=search_tool.run,\n",
    "        description=\"Use this tool to perform web searches.\"\n",
    "    )\n",
    "]\n",
    "\n",
    "\n",
    "agent = initialize_agent(tools, llm, agent=\"zero-shot-react-description\", verbose=True)\n",
    "\n",
    "response = agent.run(\"What’s the weather in Delhi?\")\n",
    "print(response)"
   ]
  },
  {
   "cell_type": "code",
   "execution_count": null,
   "id": "8c1c0273-acbf-438a-997d-374e00ff0bb9",
   "metadata": {},
   "outputs": [],
   "source": []
  },
  {
   "cell_type": "code",
   "execution_count": null,
   "id": "665631f7-5623-40d3-a617-b18651f5f5a3",
   "metadata": {},
   "outputs": [],
   "source": []
  }
 ],
 "metadata": {
  "kernelspec": {
   "display_name": "first",
   "language": "python",
   "name": "python3"
  },
  "language_info": {
   "codemirror_mode": {
    "name": "ipython",
    "version": 3
   },
   "file_extension": ".py",
   "mimetype": "text/x-python",
   "name": "python",
   "nbconvert_exporter": "python",
   "pygments_lexer": "ipython3",
   "version": "3.10.16"
  }
 },
 "nbformat": 4,
 "nbformat_minor": 5
}
