{
 "cells": [
  {
   "cell_type": "code",
   "execution_count": 1,
   "id": "98810361-714c-4b3c-ad20-2a57f9e9a713",
   "metadata": {},
   "outputs": [
    {
     "name": "stderr",
     "output_type": "stream",
     "text": [
      "/opt/anaconda3/envs/first/lib/python3.10/site-packages/tqdm/auto.py:21: TqdmWarning: IProgress not found. Please update jupyter and ipywidgets. See https://ipywidgets.readthedocs.io/en/stable/user_install.html\n",
      "  from .autonotebook import tqdm as notebook_tqdm\n"
     ]
    }
   ],
   "source": [
    "from langchain_google_genai import GoogleGenerativeAI\n",
    "\n",
    "import os\n",
    "from dotenv import load_dotenv\n",
    "load_dotenv() \n",
    "\n",
    "load_dotenv()\n",
    "api_key = os.getenv(\"GOOGLE_API_KEY\")\n",
    "\n",
    "llm = GoogleGenerativeAI(model=\"gemini-pro\", google_api_key=api_key)"
   ]
  },
  {
   "cell_type": "code",
   "execution_count": 2,
   "id": "9f89ffac-4715-4162-9e6c-2d366a9fb762",
   "metadata": {},
   "outputs": [
    {
     "name": "stdout",
     "output_type": "stream",
     "text": [
      "Machine learning, a subset of artificial intelligence (AI), empowers computers to learn from data without explicit programming. It involves algorithms that analyze patterns and relationships in data to make predictions or decisions. Machine learning models are trained on historical data and can improve their performance over time as they encounter new data. Types of machine learning include supervised learning, where data is labeled with known outcomes; unsupervised learning, where data is unlabeled; and reinforcement learning, where models learn through trial and error. Machine learning finds applications in various fields, including finance, healthcare, manufacturing, and customer service.\n"
     ]
    }
   ],
   "source": [
    "print(llm.invoke(\"write few lines on Machine Learning\"))  \n"
   ]
  },
  {
   "cell_type": "markdown",
   "id": "e0c0d700",
   "metadata": {},
   "source": [
    "#### Connect with database and ask some basic questions"
   ]
  },
  {
   "cell_type": "code",
   "execution_count": 3,
   "id": "f48fbb53",
   "metadata": {},
   "outputs": [
    {
     "name": "stderr",
     "output_type": "stream",
     "text": [
      "/opt/anaconda3/envs/first/lib/python3.10/site-packages/langchain_experimental/sql/base.py:7: LangChainDeprecationWarning: As of langchain-core 0.3.0, LangChain uses pydantic v2 internally. The langchain_core.pydantic_v1 module was a compatibility shim for pydantic v1, and should no longer be used. Please update the code to import from Pydantic directly.\n",
      "\n",
      "For example, replace imports like: `from langchain_core.pydantic_v1 import BaseModel`\n",
      "with: `from pydantic import BaseModel`\n",
      "or the v1 compatibility namespace if you are working in a code base that has not been fully upgraded to pydantic 2 yet. \tfrom pydantic.v1 import BaseModel\n",
      "\n",
      "  from langchain.chains.base import Chain\n"
     ]
    }
   ],
   "source": [
    "\n",
    "#from langchain_community.utilities import SQLDatabase\n",
    "from langchain_experimental.sql import SQLDatabaseChain\n",
    "\n",
    "from langchain.utilities import SQLDatabase\n"
   ]
  },
  {
   "cell_type": "code",
   "execution_count": 6,
   "id": "23f9ae16",
   "metadata": {},
   "outputs": [
    {
     "name": "stdout",
     "output_type": "stream",
     "text": [
      "\n",
      "CREATE TABLE sales_tb (\n",
      "\t`TransactionID` INTEGER, \n",
      "\t`Date` DATE, \n",
      "\t`CustomerID` VARCHAR(10), \n",
      "\t`Gender` VARCHAR(10), \n",
      "\t`Age` INTEGER, \n",
      "\t`ProductCategory` VARCHAR(50), \n",
      "\t`Quantity` INTEGER, \n",
      "\t`PriceperUnit` DECIMAL(10, 2), \n",
      "\t`TotalAmount` DECIMAL(10, 2)\n",
      ")ENGINE=InnoDB COLLATE utf8mb4_0900_ai_ci DEFAULT CHARSET=utf8mb4\n",
      "\n",
      "/*\n",
      "3 rows from sales_tb table:\n",
      "TransactionID\tDate\tCustomerID\tGender\tAge\tProductCategory\tQuantity\tPriceperUnit\tTotalAmount\n",
      "1\t2023-11-24\tCUST001\tMale\t34\tBeauty\t3\t50.00\t150.00\n",
      "2\t2023-02-27\tCUST002\tFemale\t26\tClothing\t2\t500.00\t1000.00\n",
      "3\t2023-01-13\tCUST003\tMale\t50\tElectronics\t1\t30.00\t30.00\n",
      "*/\n"
     ]
    }
   ],
   "source": [
    "from langchain_community.utilities import SQLDatabase\n",
    "from sqlalchemy import create_engine\n",
    "from dotenv import load_dotenv\n",
    "import os\n",
    "from langchain_community.utilities import SQLDatabase\n",
    "\n",
    "# Load environment variables\n",
    "load_dotenv()\n",
    "\n",
    "# Retrieve credentials from the .env file\n",
    "db_user = os.getenv(\"DB_USER\")\n",
    "db_password = os.getenv(\"DB_PASSWORD\")\n",
    "db_host = os.getenv(\"DB_HOST\")\n",
    "db_name = os.getenv(\"DB_NAME\")\n",
    "\n",
    "db = SQLDatabase.from_uri(\n",
    "    f\"mysql+pymysql://{db_user}:{db_password}@{db_host}/{db_name}\",\n",
    "    sample_rows_in_table_info=3\n",
    ")\n",
    "\n",
    "\n",
    "print(db.table_info)\n"
   ]
  },
  {
   "cell_type": "code",
   "execution_count": 8,
   "id": "25a66c96-46c5-4399-875b-51dfa2f3abc0",
   "metadata": {},
   "outputs": [
    {
     "data": {
      "text/plain": [
       "'```sql\\nSELECT COUNT(DISTINCT `CustomerID`) AS `Number of Customers`\\nFROM sales_tb;\\n```'"
      ]
     },
     "execution_count": 8,
     "metadata": {},
     "output_type": "execute_result"
    }
   ],
   "source": [
    "#Convert question to SQL query\n",
    "from langchain.chains import create_sql_query_chain\n",
    "\n",
    "chain = create_sql_query_chain(llm, db)\n",
    "response = chain.invoke({\"question\": \"How many customers are there\"})\n",
    "response"
   ]
  },
  {
   "cell_type": "code",
   "execution_count": 9,
   "id": "529ac714-f926-4627-826d-16de9830aa5e",
   "metadata": {},
   "outputs": [
    {
     "name": "stdout",
     "output_type": "stream",
     "text": [
      "SELECT COUNT(DISTINCT `CustomerID`) AS `Number of Customers`\n",
      "FROM sales_tb;\n"
     ]
    }
   ],
   "source": [
    "cleaned_query = response.strip('```sql\\n').strip('\\n```')\n",
    "print(cleaned_query)"
   ]
  },
  {
   "cell_type": "code",
   "execution_count": 10,
   "id": "6f76527d-119a-4062-bdb1-d768d5707be3",
   "metadata": {},
   "outputs": [
    {
     "name": "stdout",
     "output_type": "stream",
     "text": [
      "[(10,)]\n"
     ]
    }
   ],
   "source": [
    "# Execute the cleaned query\n",
    "result = db.run(cleaned_query)\n",
    "print(result)"
   ]
  },
  {
   "cell_type": "code",
   "execution_count": null,
   "id": "2825fc41-87c9-43d3-a4a0-9074e0dc2667",
   "metadata": {},
   "outputs": [],
   "source": []
  },
  {
   "cell_type": "code",
   "execution_count": 11,
   "id": "573e95b9-eb69-46e0-918b-62e114e6f0c0",
   "metadata": {},
   "outputs": [],
   "source": [
    "chain = create_sql_query_chain(llm, db)\n",
    "def execute_query(question):\n",
    "    try:\n",
    "        # Generate SQL query from question\n",
    "        response = chain.invoke({\"question\": question})\n",
    "        print(response)\n",
    "        print(\"###################################################\")\n",
    "        # Strip the formatting markers from the response\n",
    "        cleaned_query = response.strip('```sql\\n').strip('\\n```')\n",
    "        print(cleaned_query)\n",
    "        print(\"###################################################\")        \n",
    "        # Execute the cleaned query\n",
    "        result = db.run(cleaned_query)\n",
    "        print(\"###################################################\")        \n",
    "        # Display the result\n",
    "        print(result)\n",
    "    except ProgrammingError as e:\n",
    "        print(f\"An error occurred: {e}\")\n"
   ]
  },
  {
   "cell_type": "code",
   "execution_count": 12,
   "id": "29ca3b54-d1ed-428f-a03c-9c337f41926e",
   "metadata": {},
   "outputs": [
    {
     "name": "stdout",
     "output_type": "stream",
     "text": [
      "```sql\n",
      "SELECT \n",
      "  `ProductCategory`,\n",
      "  COUNT(DISTINCT `CustomerID`) AS `UniqueCustomers`\n",
      "FROM sales_tb\n",
      "GROUP BY `ProductCategory`\n",
      "ORDER BY `UniqueCustomers` DESC\n",
      "LIMIT 5;\n",
      "```\n",
      "###################################################\n",
      "SELECT \n",
      "  `ProductCategory`,\n",
      "  COUNT(DISTINCT `CustomerID`) AS `UniqueCustomers`\n",
      "FROM sales_tb\n",
      "GROUP BY `ProductCategory`\n",
      "ORDER BY `UniqueCustomers` DESC\n",
      "LIMIT 5;\n",
      "###################################################\n",
      "###################################################\n",
      "[('Clothing', 4), ('Beauty', 3), ('Electronics', 3)]\n"
     ]
    }
   ],
   "source": [
    "q1 = \"How many unique customers are there for each product category\"\n",
    "execute_query(q1)"
   ]
  },
  {
   "cell_type": "code",
   "execution_count": 13,
   "id": "aeda3451-5fc1-462b-8873-c09cc2401239",
   "metadata": {},
   "outputs": [
    {
     "name": "stdout",
     "output_type": "stream",
     "text": [
      "```sql\n",
      "SELECT \n",
      "  `ProductCategory`, \n",
      "  SUM(`TotalAmount`) AS `TotalSales`\n",
      "FROM \n",
      "  sales_tb\n",
      "GROUP BY \n",
      "  `ProductCategory`\n",
      "ORDER BY \n",
      "  `TotalSales` DESC\n",
      "LIMIT \n",
      "  5;\n",
      "```\n",
      "###################################################\n",
      "SELECT \n",
      "  `ProductCategory`, \n",
      "  SUM(`TotalAmount`) AS `TotalSales`\n",
      "FROM \n",
      "  sales_tb\n",
      "GROUP BY \n",
      "  `ProductCategory`\n",
      "ORDER BY \n",
      "  `TotalSales` DESC\n",
      "LIMIT \n",
      "  5;\n",
      "###################################################\n",
      "###################################################\n",
      "[('Clothing', Decimal('1750.00')), ('Electronics', Decimal('730.00')), ('Beauty', Decimal('280.00'))]\n"
     ]
    }
   ],
   "source": [
    "q2 = \"Calculate total sales amount per product category:\"\n",
    "execute_query(q2)"
   ]
  },
  {
   "cell_type": "code",
   "execution_count": 14,
   "id": "bc3ced61-e47e-47c1-b934-4cee3823219f",
   "metadata": {},
   "outputs": [
    {
     "name": "stdout",
     "output_type": "stream",
     "text": [
      "```sql\n",
      "SELECT \n",
      "    `Gender`, \n",
      "    AVG(`Age`) AS `AverageAge`\n",
      "FROM \n",
      "    `sales_tb`\n",
      "GROUP BY \n",
      "    `Gender`\n",
      "ORDER BY \n",
      "    `Gender`\n",
      "LIMIT \n",
      "    5;\n",
      "```\n",
      "###################################################\n",
      "SELECT \n",
      "    `Gender`, \n",
      "    AVG(`Age`) AS `AverageAge`\n",
      "FROM \n",
      "    `sales_tb`\n",
      "GROUP BY \n",
      "    `Gender`\n",
      "ORDER BY \n",
      "    `Gender`\n",
      "LIMIT \n",
      "    5;\n",
      "###################################################\n",
      "###################################################\n",
      "[('Female', Decimal('41.0000')), ('Male', Decimal('41.4286'))]\n"
     ]
    }
   ],
   "source": [
    "q3 = \"calculates the average age of customers grouped by gender.\"\n",
    "execute_query(q3)"
   ]
  },
  {
   "cell_type": "code",
   "execution_count": 15,
   "id": "52d613ed",
   "metadata": {},
   "outputs": [
    {
     "name": "stdout",
     "output_type": "stream",
     "text": [
      "```sql\n",
      "SELECT \n",
      "  `CustomerID`,\n",
      "  SUM(`TotalAmount`) AS `TotalSpent`\n",
      "FROM sales_tb\n",
      "GROUP BY `CustomerID`\n",
      "ORDER BY `TotalSpent` DESC\n",
      "LIMIT 5\n",
      "```\n",
      "###################################################\n",
      "SELECT \n",
      "  `CustomerID`,\n",
      "  SUM(`TotalAmount`) AS `TotalSpent`\n",
      "FROM sales_tb\n",
      "GROUP BY `CustomerID`\n",
      "ORDER BY `TotalSpent` DESC\n",
      "LIMIT 5\n",
      "###################################################\n",
      "###################################################\n",
      "[('CUST002', Decimal('1000.00')), ('CUST009', Decimal('600.00')), ('CUST004', Decimal('500.00')), ('CUST010', Decimal('200.00')), ('CUST001', Decimal('150.00'))]\n"
     ]
    }
   ],
   "source": [
    "q4 = \"identify the top spending customers based on their total amount spent.\"\n",
    "execute_query(q4)"
   ]
  },
  {
   "cell_type": "code",
   "execution_count": 16,
   "id": "7da6c762",
   "metadata": {},
   "outputs": [
    {
     "name": "stdout",
     "output_type": "stream",
     "text": [
      "```sql\n",
      "SELECT\n",
      "  SUBSTRING(`Date`, 1, 7) AS `Month`,\n",
      "  COUNT(*) AS `Number of Transactions`\n",
      "FROM sales_tb\n",
      "GROUP BY `Month`\n",
      "ORDER BY `Month` DESC\n",
      "LIMIT 5;\n",
      "```\n",
      "###################################################\n",
      "SELECT\n",
      "  SUBSTRING(`Date`, 1, 7) AS `Month`,\n",
      "  COUNT(*) AS `Number of Transactions`\n",
      "FROM sales_tb\n",
      "GROUP BY `Month`\n",
      "ORDER BY `Month` DESC\n",
      "LIMIT 5;\n",
      "###################################################\n",
      "###################################################\n",
      "[('2023-12', 1), ('2023-11', 1), ('2023-10', 1), ('2023-05', 2), ('2023-04', 1)]\n"
     ]
    }
   ],
   "source": [
    "q5 = \"counts the number of transactions made each month.\"\n",
    "execute_query(q5)"
   ]
  },
  {
   "cell_type": "code",
   "execution_count": 17,
   "id": "c45b1a6d-c06b-461a-a407-50c7c43b019e",
   "metadata": {},
   "outputs": [
    {
     "name": "stdout",
     "output_type": "stream",
     "text": [
      "```sql\n",
      "SELECT \n",
      "    `ProductCategory`, \n",
      "    SUM(`TotalAmount`) AS `TotalSalesAmount`, \n",
      "    AVG(`PriceperUnit`) AS `AveragePricePerUnit`\n",
      "FROM \n",
      "    `sales_tb`\n",
      "GROUP BY \n",
      "    `ProductCategory`\n",
      "ORDER BY \n",
      "    `TotalSalesAmount` DESC\n",
      "LIMIT \n",
      "    5;\n",
      "```\n",
      "###################################################\n",
      "SELECT \n",
      "    `ProductCategory`, \n",
      "    SUM(`TotalAmount`) AS `TotalSalesAmount`, \n",
      "    AVG(`PriceperUnit`) AS `AveragePricePerUnit`\n",
      "FROM \n",
      "    `sales_tb`\n",
      "GROUP BY \n",
      "    `ProductCategory`\n",
      "ORDER BY \n",
      "    `TotalSalesAmount` DESC\n",
      "LIMIT \n",
      "    5;\n",
      "###################################################\n",
      "###################################################\n",
      "[('Clothing', Decimal('1750.00'), Decimal('268.750000')), ('Electronics', Decimal('730.00'), Decimal('118.333333')), ('Beauty', Decimal('280.00'), Decimal('43.333333'))]\n"
     ]
    }
   ],
   "source": [
    "q6 = \"calculates the total sales amount and average price per unit for each product category.\"\n",
    "execute_query(q6)"
   ]
  },
  {
   "cell_type": "code",
   "execution_count": null,
   "id": "730d4d9c-1539-4442-af35-4b60a3ebc041",
   "metadata": {},
   "outputs": [],
   "source": []
  }
 ],
 "metadata": {
  "kernelspec": {
   "display_name": "first",
   "language": "python",
   "name": "python3"
  },
  "language_info": {
   "codemirror_mode": {
    "name": "ipython",
    "version": 3
   },
   "file_extension": ".py",
   "mimetype": "text/x-python",
   "name": "python",
   "nbconvert_exporter": "python",
   "pygments_lexer": "ipython3",
   "version": "3.10.16"
  }
 },
 "nbformat": 4,
 "nbformat_minor": 5
}
